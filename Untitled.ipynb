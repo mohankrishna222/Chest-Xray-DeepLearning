{
 "cells": [
  {
   "cell_type": "code",
   "execution_count": 1,
   "metadata": {},
   "outputs": [
    {
     "name": "stderr",
     "output_type": "stream",
     "text": [
      "Using TensorFlow backend.\n",
      "C:\\Users\\bmkr5\\anaconda3\\lib\\site-packages\\tensorflow\\python\\framework\\dtypes.py:516: FutureWarning: Passing (type, 1) or '1type' as a synonym of type is deprecated; in a future version of numpy, it will be understood as (type, (1,)) / '(1,)type'.\n",
      "  _np_qint8 = np.dtype([(\"qint8\", np.int8, 1)])\n",
      "C:\\Users\\bmkr5\\anaconda3\\lib\\site-packages\\tensorflow\\python\\framework\\dtypes.py:517: FutureWarning: Passing (type, 1) or '1type' as a synonym of type is deprecated; in a future version of numpy, it will be understood as (type, (1,)) / '(1,)type'.\n",
      "  _np_quint8 = np.dtype([(\"quint8\", np.uint8, 1)])\n",
      "C:\\Users\\bmkr5\\anaconda3\\lib\\site-packages\\tensorflow\\python\\framework\\dtypes.py:518: FutureWarning: Passing (type, 1) or '1type' as a synonym of type is deprecated; in a future version of numpy, it will be understood as (type, (1,)) / '(1,)type'.\n",
      "  _np_qint16 = np.dtype([(\"qint16\", np.int16, 1)])\n",
      "C:\\Users\\bmkr5\\anaconda3\\lib\\site-packages\\tensorflow\\python\\framework\\dtypes.py:519: FutureWarning: Passing (type, 1) or '1type' as a synonym of type is deprecated; in a future version of numpy, it will be understood as (type, (1,)) / '(1,)type'.\n",
      "  _np_quint16 = np.dtype([(\"quint16\", np.uint16, 1)])\n",
      "C:\\Users\\bmkr5\\anaconda3\\lib\\site-packages\\tensorflow\\python\\framework\\dtypes.py:520: FutureWarning: Passing (type, 1) or '1type' as a synonym of type is deprecated; in a future version of numpy, it will be understood as (type, (1,)) / '(1,)type'.\n",
      "  _np_qint32 = np.dtype([(\"qint32\", np.int32, 1)])\n",
      "C:\\Users\\bmkr5\\anaconda3\\lib\\site-packages\\tensorflow\\python\\framework\\dtypes.py:525: FutureWarning: Passing (type, 1) or '1type' as a synonym of type is deprecated; in a future version of numpy, it will be understood as (type, (1,)) / '(1,)type'.\n",
      "  np_resource = np.dtype([(\"resource\", np.ubyte, 1)])\n",
      "C:\\Users\\bmkr5\\anaconda3\\lib\\site-packages\\tensorboard\\compat\\tensorflow_stub\\dtypes.py:541: FutureWarning: Passing (type, 1) or '1type' as a synonym of type is deprecated; in a future version of numpy, it will be understood as (type, (1,)) / '(1,)type'.\n",
      "  _np_qint8 = np.dtype([(\"qint8\", np.int8, 1)])\n",
      "C:\\Users\\bmkr5\\anaconda3\\lib\\site-packages\\tensorboard\\compat\\tensorflow_stub\\dtypes.py:542: FutureWarning: Passing (type, 1) or '1type' as a synonym of type is deprecated; in a future version of numpy, it will be understood as (type, (1,)) / '(1,)type'.\n",
      "  _np_quint8 = np.dtype([(\"quint8\", np.uint8, 1)])\n",
      "C:\\Users\\bmkr5\\anaconda3\\lib\\site-packages\\tensorboard\\compat\\tensorflow_stub\\dtypes.py:543: FutureWarning: Passing (type, 1) or '1type' as a synonym of type is deprecated; in a future version of numpy, it will be understood as (type, (1,)) / '(1,)type'.\n",
      "  _np_qint16 = np.dtype([(\"qint16\", np.int16, 1)])\n",
      "C:\\Users\\bmkr5\\anaconda3\\lib\\site-packages\\tensorboard\\compat\\tensorflow_stub\\dtypes.py:544: FutureWarning: Passing (type, 1) or '1type' as a synonym of type is deprecated; in a future version of numpy, it will be understood as (type, (1,)) / '(1,)type'.\n",
      "  _np_quint16 = np.dtype([(\"quint16\", np.uint16, 1)])\n",
      "C:\\Users\\bmkr5\\anaconda3\\lib\\site-packages\\tensorboard\\compat\\tensorflow_stub\\dtypes.py:545: FutureWarning: Passing (type, 1) or '1type' as a synonym of type is deprecated; in a future version of numpy, it will be understood as (type, (1,)) / '(1,)type'.\n",
      "  _np_qint32 = np.dtype([(\"qint32\", np.int32, 1)])\n",
      "C:\\Users\\bmkr5\\anaconda3\\lib\\site-packages\\tensorboard\\compat\\tensorflow_stub\\dtypes.py:550: FutureWarning: Passing (type, 1) or '1type' as a synonym of type is deprecated; in a future version of numpy, it will be understood as (type, (1,)) / '(1,)type'.\n",
      "  np_resource = np.dtype([(\"resource\", np.ubyte, 1)])\n"
     ]
    }
   ],
   "source": [
    "from keras.layers import Input,Lambda,Dense,Flatten\n",
    "from keras.models import Model\n",
    "from keras.applications.vgg16 import VGG16\n",
    "from keras.applications.vgg16 import preprocess_input\n",
    "from keras.preprocessing import image\n",
    "from keras.preprocessing.image import ImageDataGenerator\n",
    "from keras.models import Sequential\n",
    "import numpy as np\n",
    "from glob import glob\n",
    "import matplotlib.pyplot as plt"
   ]
  },
  {
   "cell_type": "code",
   "execution_count": 17,
   "metadata": {},
   "outputs": [],
   "source": [
    "IMAGE_SIZE=[224,224]\n",
    "train_path='train'\n",
    "test_path='test'"
   ]
  },
  {
   "cell_type": "code",
   "execution_count": 5,
   "metadata": {},
   "outputs": [
    {
     "name": "stdout",
     "output_type": "stream",
     "text": [
      "Downloading data from https://github.com/fchollet/deep-learning-models/releases/download/v0.1/vgg16_weights_tf_dim_ordering_tf_kernels_notop.h5\n",
      "58892288/58889256 [==============================] - 64s 1us/step\n"
     ]
    }
   ],
   "source": [
    "vgg=VGG16(input_shape=IMAGE_SIZE+[3],weights='imagenet',include_top=False)"
   ]
  },
  {
   "cell_type": "code",
   "execution_count": 6,
   "metadata": {},
   "outputs": [],
   "source": [
    "for layer in vgg.layers:\n",
    "    layer.trainable=False"
   ]
  },
  {
   "cell_type": "code",
   "execution_count": 8,
   "metadata": {},
   "outputs": [],
   "source": [
    "folders=glob('train/*')"
   ]
  },
  {
   "cell_type": "code",
   "execution_count": 9,
   "metadata": {},
   "outputs": [],
   "source": [
    "x=Flatten()(vgg.output)"
   ]
  },
  {
   "cell_type": "code",
   "execution_count": 10,
   "metadata": {},
   "outputs": [],
   "source": [
    "prediction=Dense(len(folders),activation='softmax')(x)"
   ]
  },
  {
   "cell_type": "code",
   "execution_count": 11,
   "metadata": {},
   "outputs": [],
   "source": [
    "model=Model(inputs=vgg.input,outputs=prediction)"
   ]
  },
  {
   "cell_type": "code",
   "execution_count": 13,
   "metadata": {},
   "outputs": [],
   "source": [
    "model.compile(loss='categorical_crossentropy',optimizer='Adam',metrics=['accuracy'])"
   ]
  },
  {
   "cell_type": "code",
   "execution_count": 14,
   "metadata": {},
   "outputs": [],
   "source": [
    "train_datagen=ImageDataGenerator(rescale=1./255,shear_range=0.2,zoom_range=0.2,horizontal_flip=True)"
   ]
  },
  {
   "cell_type": "code",
   "execution_count": 15,
   "metadata": {},
   "outputs": [],
   "source": [
    "test_datagen=ImageDataGenerator(rescale=1./255)"
   ]
  },
  {
   "cell_type": "code",
   "execution_count": 18,
   "metadata": {},
   "outputs": [
    {
     "name": "stdout",
     "output_type": "stream",
     "text": [
      "Found 5216 images belonging to 2 classes.\n"
     ]
    }
   ],
   "source": [
    "training_set=train_datagen.flow_from_directory(train_path,target_size=(224,224),batch_size=32,class_mode='categorical')"
   ]
  },
  {
   "cell_type": "code",
   "execution_count": 19,
   "metadata": {},
   "outputs": [
    {
     "name": "stdout",
     "output_type": "stream",
     "text": [
      "Found 624 images belonging to 2 classes.\n"
     ]
    }
   ],
   "source": [
    "test_set=test_datagen.flow_from_directory(test_path,target_size=(224,224),batch_size=32,class_mode='categorical')"
   ]
  },
  {
   "cell_type": "code",
   "execution_count": 20,
   "metadata": {},
   "outputs": [
    {
     "name": "stdout",
     "output_type": "stream",
     "text": [
      "WARNING:tensorflow:From C:\\Users\\bmkr5\\anaconda3\\lib\\site-packages\\keras\\backend\\tensorflow_backend.py:422: The name tf.global_variables is deprecated. Please use tf.compat.v1.global_variables instead.\n",
      "\n",
      "Epoch 1/5\n",
      "163/163 [==============================] - 1375s 8s/step - loss: 0.2173 - accuracy: 0.9176 - val_loss: 0.0344 - val_accuracy: 0.9119\n",
      "Epoch 2/5\n",
      "163/163 [==============================] - 756s 5s/step - loss: 0.1190 - accuracy: 0.9567 - val_loss: 0.3839 - val_accuracy: 0.9087\n",
      "Epoch 3/5\n",
      "163/163 [==============================] - 744s 5s/step - loss: 0.1056 - accuracy: 0.9618 - val_loss: 0.5199 - val_accuracy: 0.9087\n",
      "Epoch 4/5\n",
      "163/163 [==============================] - 850s 5s/step - loss: 0.0995 - accuracy: 0.9628 - val_loss: 0.4572 - val_accuracy: 0.9183\n",
      "Epoch 5/5\n",
      "163/163 [==============================] - 1237s 8s/step - loss: 0.0777 - accuracy: 0.9720 - val_loss: 0.5084 - val_accuracy: 0.9135\n"
     ]
    }
   ],
   "source": [
    "r=model.fit_generator(training_set,validation_data=test_set,epochs=5,steps_per_epoch=len(training_set),validation_steps=len(test_set))"
   ]
  },
  {
   "cell_type": "code",
   "execution_count": 21,
   "metadata": {},
   "outputs": [],
   "source": [
    "model.save('model.h5')"
   ]
  },
  {
   "cell_type": "code",
   "execution_count": 23,
   "metadata": {},
   "outputs": [],
   "source": [
    "from keras.models import load_model\n",
    "model2=load_model('model.h5')"
   ]
  },
  {
   "cell_type": "code",
   "execution_count": 28,
   "metadata": {},
   "outputs": [],
   "source": [
    "img=image.load_img('val/NORMAL/NORMAL2-IM-1427-0001.jpeg',target_size=(224,224))"
   ]
  },
  {
   "cell_type": "code",
   "execution_count": 35,
   "metadata": {},
   "outputs": [
    {
     "name": "stdout",
     "output_type": "stream",
     "text": [
      "[[[ 6.  6.  6.]\n",
      "  [ 0.  0.  0.]\n",
      "  [ 7.  7.  7.]\n",
      "  ...\n",
      "  [78. 78. 78.]\n",
      "  [74. 74. 74.]\n",
      "  [67. 67. 67.]]\n",
      "\n",
      " [[ 0.  0.  0.]\n",
      "  [ 2.  2.  2.]\n",
      "  [11. 11. 11.]\n",
      "  ...\n",
      "  [82. 82. 82.]\n",
      "  [69. 69. 69.]\n",
      "  [64. 64. 64.]]\n",
      "\n",
      " [[ 0.  0.  0.]\n",
      "  [ 5.  5.  5.]\n",
      "  [12. 12. 12.]\n",
      "  ...\n",
      "  [78. 78. 78.]\n",
      "  [70. 70. 70.]\n",
      "  [65. 65. 65.]]\n",
      "\n",
      " ...\n",
      "\n",
      " [[ 0.  0.  0.]\n",
      "  [ 0.  0.  0.]\n",
      "  [ 0.  0.  0.]\n",
      "  ...\n",
      "  [ 0.  0.  0.]\n",
      "  [ 0.  0.  0.]\n",
      "  [ 0.  0.  0.]]\n",
      "\n",
      " [[ 0.  0.  0.]\n",
      "  [ 0.  0.  0.]\n",
      "  [ 0.  0.  0.]\n",
      "  ...\n",
      "  [ 0.  0.  0.]\n",
      "  [ 0.  0.  0.]\n",
      "  [ 0.  0.  0.]]\n",
      "\n",
      " [[ 0.  0.  0.]\n",
      "  [ 0.  0.  0.]\n",
      "  [ 0.  0.  0.]\n",
      "  ...\n",
      "  [ 0.  0.  0.]\n",
      "  [ 0.  0.  0.]\n",
      "  [ 0.  0.  0.]]]\n",
      "[[[[ 6.  6.  6.]\n",
      "   [ 0.  0.  0.]\n",
      "   [ 7.  7.  7.]\n",
      "   ...\n",
      "   [78. 78. 78.]\n",
      "   [74. 74. 74.]\n",
      "   [67. 67. 67.]]\n",
      "\n",
      "  [[ 0.  0.  0.]\n",
      "   [ 2.  2.  2.]\n",
      "   [11. 11. 11.]\n",
      "   ...\n",
      "   [82. 82. 82.]\n",
      "   [69. 69. 69.]\n",
      "   [64. 64. 64.]]\n",
      "\n",
      "  [[ 0.  0.  0.]\n",
      "   [ 5.  5.  5.]\n",
      "   [12. 12. 12.]\n",
      "   ...\n",
      "   [78. 78. 78.]\n",
      "   [70. 70. 70.]\n",
      "   [65. 65. 65.]]\n",
      "\n",
      "  ...\n",
      "\n",
      "  [[ 0.  0.  0.]\n",
      "   [ 0.  0.  0.]\n",
      "   [ 0.  0.  0.]\n",
      "   ...\n",
      "   [ 0.  0.  0.]\n",
      "   [ 0.  0.  0.]\n",
      "   [ 0.  0.  0.]]\n",
      "\n",
      "  [[ 0.  0.  0.]\n",
      "   [ 0.  0.  0.]\n",
      "   [ 0.  0.  0.]\n",
      "   ...\n",
      "   [ 0.  0.  0.]\n",
      "   [ 0.  0.  0.]\n",
      "   [ 0.  0.  0.]]\n",
      "\n",
      "  [[ 0.  0.  0.]\n",
      "   [ 0.  0.  0.]\n",
      "   [ 0.  0.  0.]\n",
      "   ...\n",
      "   [ 0.  0.  0.]\n",
      "   [ 0.  0.  0.]\n",
      "   [ 0.  0.  0.]]]]\n",
      "[[[[ -97.939    -110.779    -117.68    ]\n",
      "   [-103.939    -116.779    -123.68    ]\n",
      "   [ -96.939    -109.779    -116.68    ]\n",
      "   ...\n",
      "   [ -25.939003  -38.779     -45.68    ]\n",
      "   [ -29.939003  -42.779     -49.68    ]\n",
      "   [ -36.939003  -49.779     -56.68    ]]\n",
      "\n",
      "  [[-103.939    -116.779    -123.68    ]\n",
      "   [-101.939    -114.779    -121.68    ]\n",
      "   [ -92.939    -105.779    -112.68    ]\n",
      "   ...\n",
      "   [ -21.939003  -34.779     -41.68    ]\n",
      "   [ -34.939003  -47.779     -54.68    ]\n",
      "   [ -39.939003  -52.779     -59.68    ]]\n",
      "\n",
      "  [[-103.939    -116.779    -123.68    ]\n",
      "   [ -98.939    -111.779    -118.68    ]\n",
      "   [ -91.939    -104.779    -111.68    ]\n",
      "   ...\n",
      "   [ -25.939003  -38.779     -45.68    ]\n",
      "   [ -33.939003  -46.779     -53.68    ]\n",
      "   [ -38.939003  -51.779     -58.68    ]]\n",
      "\n",
      "  ...\n",
      "\n",
      "  [[-103.939    -116.779    -123.68    ]\n",
      "   [-103.939    -116.779    -123.68    ]\n",
      "   [-103.939    -116.779    -123.68    ]\n",
      "   ...\n",
      "   [-103.939    -116.779    -123.68    ]\n",
      "   [-103.939    -116.779    -123.68    ]\n",
      "   [-103.939    -116.779    -123.68    ]]\n",
      "\n",
      "  [[-103.939    -116.779    -123.68    ]\n",
      "   [-103.939    -116.779    -123.68    ]\n",
      "   [-103.939    -116.779    -123.68    ]\n",
      "   ...\n",
      "   [-103.939    -116.779    -123.68    ]\n",
      "   [-103.939    -116.779    -123.68    ]\n",
      "   [-103.939    -116.779    -123.68    ]]\n",
      "\n",
      "  [[-103.939    -116.779    -123.68    ]\n",
      "   [-103.939    -116.779    -123.68    ]\n",
      "   [-103.939    -116.779    -123.68    ]\n",
      "   ...\n",
      "   [-103.939    -116.779    -123.68    ]\n",
      "   [-103.939    -116.779    -123.68    ]\n",
      "   [-103.939    -116.779    -123.68    ]]]]\n"
     ]
    }
   ],
   "source": [
    "x=image.img_to_array(img)\n",
    "print(x)\n",
    "x=np.expand_dims(x,axis=0)\n",
    "print(x)\n",
    "img_data=preprocess_input(x)\n",
    "print(img_data)\n",
    "classes=model.predict(img_data)"
   ]
  },
  {
   "cell_type": "code",
   "execution_count": 30,
   "metadata": {},
   "outputs": [
    {
     "data": {
      "text/plain": [
       "array([[1.0000000e+00, 5.1082185e-17]], dtype=float32)"
      ]
     },
     "execution_count": 30,
     "metadata": {},
     "output_type": "execute_result"
    }
   ],
   "source": [
    "classes"
   ]
  },
  {
   "cell_type": "code",
   "execution_count": null,
   "metadata": {},
   "outputs": [],
   "source": []
  }
 ],
 "metadata": {
  "kernelspec": {
   "display_name": "Python 3",
   "language": "python",
   "name": "python3"
  },
  "language_info": {
   "codemirror_mode": {
    "name": "ipython",
    "version": 3
   },
   "file_extension": ".py",
   "mimetype": "text/x-python",
   "name": "python",
   "nbconvert_exporter": "python",
   "pygments_lexer": "ipython3",
   "version": "3.7.6"
  }
 },
 "nbformat": 4,
 "nbformat_minor": 4
}
